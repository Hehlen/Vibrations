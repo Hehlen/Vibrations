{
 "cells": [
  {
   "cell_type": "code",
   "execution_count": null,
   "id": "a225c4fb",
   "metadata": {},
   "outputs": [],
   "source": [
    "import MDAnalysis as mda\n",
    "from MDAnalysis.lib import distances\n",
    "import numpy as np\n",
    "import matplotlib.pyplot as plt\n",
    "\n",
    "\n",
    "strc_file = '/media/bhehlen/Expansion/CD16_newDyna/nofuc1/MULTIDIR/2/merged_files/step3_input_no_water_no_ions.pdb'\n",
    "traj_file = '/media/bhehlen/Expansion/CD16_newDyna/nofuc1/MULTIDIR/2/merged_files/all_aligned_no_water_no_ions.xtc'\n",
    "# Load your trajectory and topology files\n",
    "u = mda.Universe(strc_file, traj_file)\n",
    "\n",
    "# Print the unique segids and residue names to identify sugars\n",
    "unique_segids = set(atom.segid for atom in u.atoms)\n",
    "unique_residues = set(atom.resname for atom in u.atoms)\n",
    "print(\"Unique SegIDs:\", unique_segids)\n",
    "print(\"Unique Residues:\", unique_residues)"
   ]
  },
  {
   "cell_type": "code",
   "execution_count": null,
   "id": "e2fb2215",
   "metadata": {},
   "outputs": [],
   "source": []
  }
 ],
 "metadata": {
  "kernelspec": {
   "display_name": "Python 3 (ipykernel)",
   "language": "python",
   "name": "python3"
  },
  "language_info": {
   "codemirror_mode": {
    "name": "ipython",
    "version": 3
   },
   "file_extension": ".py",
   "mimetype": "text/x-python",
   "name": "python",
   "nbconvert_exporter": "python",
   "pygments_lexer": "ipython3",
   "version": "3.11.0"
  }
 },
 "nbformat": 4,
 "nbformat_minor": 5
}
